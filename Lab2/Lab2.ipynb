{
 "cells": [
  {
   "metadata": {
    "ExecuteTime": {
     "end_time": "2024-10-20T18:11:24.219243Z",
     "start_time": "2024-10-20T18:11:24.204580Z"
    }
   },
   "cell_type": "code",
   "source": [
    "import pandas as pd\n",
    "import urllib.request\n",
    "import os\n",
    "from datetime import datetime"
   ],
   "id": "879a63a7120529ea",
   "outputs": [],
   "execution_count": 233
  },
  {
   "metadata": {
    "ExecuteTime": {
     "end_time": "2024-10-20T18:11:24.250795Z",
     "start_time": "2024-10-20T18:11:24.239422Z"
    }
   },
   "cell_type": "code",
   "source": [
    "# Функція для перевірки, чи файл вже існує\n",
    "def file_exists(province_id, save_dir):\n",
    "    # Шукаємо файли, які містять індекс області у назві\n",
    "    for filename in os.listdir(save_dir):\n",
    "        if f\"vhi_province_{province_id}\" in filename:\n",
    "            return os.path.join(save_dir, filename)\n",
    "    return None\n"
   ],
   "id": "f153b9b564884be9",
   "outputs": [],
   "execution_count": 234
  },
  {
   "metadata": {
    "ExecuteTime": {
     "end_time": "2024-10-20T18:11:24.282427Z",
     "start_time": "2024-10-20T18:11:24.269134Z"
    }
   },
   "cell_type": "code",
   "source": [
    "# Функція для завантаження файлів \n",
    "def download_data(id, save_dir=\"vhi_data\"):\n",
    "    # Створення директорії для зберігання файлів, якщо вона ще не існує\n",
    "    if not os.path.exists(save_dir):\n",
    "        os.makedirs(save_dir)\n",
    "\n",
    "    for i in range(1, id + 1):\n",
    "        url = f'https://www.star.nesdis.noaa.gov/smcd/emb/vci/VH/get_TS_admin.php?country=UKR&provinceID={i}&year1=1981&year2=2024&type=Mean'\n",
    "        \n",
    "        # Формування імені файлу з датою і часом\n",
    "        timestamp = datetime.now().strftime(\"%Y%m%d_%H%M%S\")\n",
    "        filename = f'vhi_province_{i}_{timestamp}.csv'\n",
    "        filepath = os.path.join(save_dir, filename)\n",
    "\n",
    "        # Перевіряємо, чи файл для даної області вже існує\n",
    "        existing_file = file_exists(i, save_dir)\n",
    "        if existing_file:\n",
    "            continue  # Пропускаємо завантаження, якщо файл існує\n",
    "\n",
    "        # Завантажуємо файл і зберігаємо його\n",
    "        vhi_url = urllib.request.urlopen(url)\n",
    "        with open(filepath, 'wb') as out:\n",
    "            out.write(vhi_url.read())\n"
   ],
   "id": "9e1d7da19ab20890",
   "outputs": [],
   "execution_count": 235
  },
  {
   "metadata": {
    "collapsed": true,
    "ExecuteTime": {
     "end_time": "2024-10-20T18:11:24.313085Z",
     "start_time": "2024-10-20T18:11:24.301603Z"
    }
   },
   "cell_type": "code",
   "source": [
    "# Функція для видалення конкретних HTML-тегів вручну\n",
    "def clean_html_tags(text):\n",
    "    clean_text = text.replace('<tt>', '').replace('</tt>', '').replace('<pre>', '').replace('</pre>', '')\n",
    "    return clean_text\n",
    "\n",
    "def load_files_to_dataframe(directory_path):\n",
    "    # Створюємо порожній список для збереження DataFrame з кожного файлу\n",
    "    df_list = []\n",
    "    i = 0\n",
    "    \n",
    "    # Проходимо по всіх файлах у директорії\n",
    "    for filename in os.listdir(directory_path):\n",
    "        if filename.endswith(\".csv\"):  # Обробляємо тільки файли CSV\n",
    "            file_path = os.path.join(directory_path, filename)\n",
    "            i += 1\n",
    "            # Зчитуємо CSV файл у DataFrame, пропускаючи перші 3 рядки з метаданими\n",
    "            headers = ['Year', 'Week', 'SMN', 'SMT', 'VCI', 'TCI', 'VHI', 'empty']\n",
    "            df = pd.read_csv(file_path, header=1, names=headers)\n",
    "            \n",
    "            # Очищуємо всі стовпці від HTML-тегів\n",
    "            for col in df.columns:\n",
    "                if df[col].dtype == 'object':\n",
    "                    df[col] = df[col].map(lambda x: clean_html_tags(str(x)))\n",
    "        \n",
    "            # Додаємо стовбчик з індексом регіона\n",
    "            df['area'] = i\n",
    "            \n",
    "            # Додаємо DataFrame до списку\n",
    "            df_list.append(df)\n",
    "    \n",
    "    # Об'єднуємо всі DataFrame в один\n",
    "    combined_df = pd.concat(df_list, ignore_index=True)\n",
    "    \n",
    "    return combined_df\n"
   ],
   "id": "initial_id",
   "outputs": [],
   "execution_count": 236
  },
  {
   "metadata": {
    "ExecuteTime": {
     "end_time": "2024-10-20T18:11:24.344011Z",
     "start_time": "2024-10-20T18:11:24.329755Z"
    }
   },
   "cell_type": "code",
   "source": [
    "def change_index(df):\n",
    "    # Створимо словник відповідностей\n",
    "    replacement_dict = {1: 22, 2: 24, 3: 23, 4: 25, 5: 3, 6: 4, 7: 8, 8: 19, 9: 20, 10: 21, 11: 9, 12: 12, 13: 10, 14: 11, 15: 12, 16: 13, 17: 14, 18: 15, 19: 16, 20: 20, 21: 17, 22: 18, 23: 6, 24: 1, 25: 2, 26: 7, 27: 5}\n",
    "    \n",
    "    # Використовуємо заміну \n",
    "    df[\"area\"] = df[\"area\"].replace(replacement_dict)\n",
    "    \n",
    "    return df\n"
   ],
   "id": "eacef1872a9c4f8b",
   "outputs": [],
   "execution_count": 237
  },
  {
   "metadata": {
    "ExecuteTime": {
     "end_time": "2024-10-20T18:11:24.375600Z",
     "start_time": "2024-10-20T18:11:24.361889Z"
    }
   },
   "cell_type": "code",
   "source": [
    "def type_to_int(df):\n",
    "    df['Year'] = pd.to_numeric(dataframe['Year'], errors='coerce')\n",
    "    df.dropna(subset=['Year'], inplace=True)\n",
    "    df['Year'] = dataframe['Year'].astype(int)\n",
    "    return df"
   ],
   "id": "c0f0891a3abef238",
   "outputs": [],
   "execution_count": 238
  },
  {
   "metadata": {
    "ExecuteTime": {
     "end_time": "2024-10-20T18:11:24.407069Z",
     "start_time": "2024-10-20T18:11:24.392288Z"
    }
   },
   "cell_type": "code",
   "source": [
    "def get_vhi_for_area(dataframe, area, year):\n",
    "    result = dataframe[(dataframe['area'] == area) & (dataframe['Year'] == year)]['VHI']\n",
    "    result.to_numpy()\n",
    "    return result\n"
   ],
   "id": "35676ca85113b32c",
   "outputs": [],
   "execution_count": 239
  },
  {
   "metadata": {
    "ExecuteTime": {
     "end_time": "2024-10-20T18:11:24.437575Z",
     "start_time": "2024-10-20T18:11:24.424772Z"
    }
   },
   "cell_type": "code",
   "source": [
    "def get_extremes_mean_median(dataframe, areas, years):\n",
    "    # Переконайтеся, що areas та years є списками\n",
    "    if not isinstance(areas, list):\n",
    "        areas = [areas]\n",
    "    if not isinstance(years, list):\n",
    "        years = [years]\n",
    "    \n",
    "    # Фільтрація даних для вказаних областей та років\n",
    "    filtered_df = dataframe[dataframe['area'].isin(areas) & dataframe['Year'].isin(years)]\n",
    "    \n",
    "    if filtered_df.empty:\n",
    "        print(\"Немає даних для зазначених областей та років.\")\n",
    "        return None\n",
    "\n",
    "    # Обчислення екстремумів, середнього значення та медіани\n",
    "    min_vhi = filtered_df['VHI'].min()\n",
    "    max_vhi = filtered_df['VHI'].max()\n",
    "    mean_vhi = filtered_df['VHI'].mean()\n",
    "    median_vhi = filtered_df['VHI'].median()\n",
    "\n",
    "    results = {\n",
    "        'min': min_vhi,\n",
    "        'max': max_vhi,\n",
    "        'mean': mean_vhi,\n",
    "        'median': median_vhi,\n",
    "    }\n",
    "\n",
    "    return results"
   ],
   "id": "8e092a799c788a28",
   "outputs": [],
   "execution_count": 240
  },
  {
   "metadata": {
    "ExecuteTime": {
     "end_time": "2024-10-20T18:11:24.468523Z",
     "start_time": "2024-10-20T18:11:24.455410Z"
    }
   },
   "cell_type": "code",
   "source": [
    "def get_vhi_for_area_range(dataframe, areas, start_year, end_year):\n",
    "    # Переконайтеся, що areas є списком\n",
    "    if not isinstance(areas, list):\n",
    "        areas = [areas]\n",
    "    \n",
    "    # Фільтрація даних для вказаних областей та діапазону років\n",
    "    filtered_df = dataframe[\n",
    "        (dataframe['area'].isin(areas)) &\n",
    "        (dataframe['Year'].astype(int).between(start_year, end_year))\n",
    "    ]\n",
    "    \n",
    "    if filtered_df.empty:\n",
    "        print(\"Немає даних для зазначених областей та діапазону років.\")\n",
    "        return None\n",
    "\n",
    "    return filtered_df[['Year', 'area', 'VHI']]"
   ],
   "id": "abfa8e4bf00764b5",
   "outputs": [],
   "execution_count": 241
  },
  {
   "metadata": {
    "ExecuteTime": {
     "end_time": "2024-10-20T18:11:24.499977Z",
     "start_time": "2024-10-20T18:11:24.486602Z"
    }
   },
   "cell_type": "code",
   "source": [
    "def detect_droughts(dataframe):\n",
    "    drought_threshold=15\n",
    "    drought_percentage=20\n",
    "    # Фільтруємо дані, щоб отримати записи з VHI <= 15\n",
    "    df_drought = dataframe[(dataframe.VHI <= drought_threshold) & (dataframe.VHI != -1)]\n",
    "\n",
    "    # Знаходимо кількість областей у DataFrame\n",
    "    total_areas = dataframe['area'].nunique()\n",
    "\n",
    "    # Обчислюємо кількість областей, які підпадають під екстремальні посухи за роками\n",
    "    drought_counts = df_drought.groupby('Year')['area'].nunique()\n",
    "\n",
    "    # Знаходимо роки, де кількість областей з посухами перевищує 20% \n",
    "    significant_drought_years = drought_counts[drought_counts > (total_areas * drought_percentage / 100)]\n",
    "\n",
    "    # Отримаємо дані для повернення\n",
    "    results = []\n",
    "\n",
    "    for year in significant_drought_years.index:\n",
    "        drought_data = df_drought[df_drought['Year'] == year]\n",
    "        for index, row in drought_data.iterrows():\n",
    "            results.append({'Year': year, 'Area': row['area'], 'VHI': row['VHI']})\n",
    "\n",
    "    # Створюємо DataFrame з результатами\n",
    "    return pd.DataFrame(results)"
   ],
   "id": "a942b67ef2e8959d",
   "outputs": [],
   "execution_count": 242
  },
  {
   "metadata": {
    "ExecuteTime": {
     "end_time": "2024-10-20T18:11:24.685776Z",
     "start_time": "2024-10-20T18:11:24.517480Z"
    }
   },
   "cell_type": "code",
   "source": [
    "# Завантаження файлів у католог vhi_data \n",
    "download_data(27, save_dir=\"vhi_data\")\n",
    "\n",
    "# Об'єднуємо файли в один датафрейм\n",
    "directory_path = 'vhi_data' \n",
    "dataframe = load_files_to_dataframe(directory_path)\n",
    "# Виводими перші 5 рядків отриманого датафрейму\n",
    "print('Перші 5 рядків отриманого датафрейму')\n",
    "print(dataframe.head())\n",
    "print('---------------------------------------------')\n",
    "\n",
    "# Змінюємо індекси регіонів\n",
    "dataframe = change_index(dataframe)\n",
    "print('Перші 5 рядків отриманого датафрейму з новими індексами')\n",
    "print(dataframe.head())\n",
    "print('---------------------------------------------')\n",
    "\n",
    "# Для реалізування наступних процедур змінюємо тип даних на int\n",
    "dataframe = type_to_int(dataframe)\n",
    "\n",
    "# Ряд VHI для області за вказаний рік\n",
    "print('Ряд VHI для області за вказаний рік')\n",
    "print(get_vhi_for_area(dataframe, area=22, year=1982))\n",
    "print('---------------------------------------------')\n",
    "\n",
    "# Пошук min та max, середнього, медіани для вказаних регіонів та років\n",
    "extremes = get_extremes_mean_median(dataframe, [22,18], [1982])\n",
    "if extremes:\n",
    "    print(\"Results:\")\n",
    "    print(f\"min: {extremes['min']}\")\n",
    "    print(f\"max: {extremes['max']}\")\n",
    "    print(f\"average: {extremes['mean']}\")\n",
    "    print(f\"median: {extremes['median']}\")\n",
    "    print('---------------------------------------------')\n",
    "\n",
    "# Ряд VHI за вказаний діапазон років для вказаних регіонів\n",
    "print('Ряд VHI за вказаний діапазон років для вказаних регіонів')\n",
    "print(get_vhi_for_area_range(dataframe, 22, 1982, 1986))\n",
    "print('---------------------------------------------')\n",
    "\n",
    "# Роки, назви регіонів з екстремальними посухами та значення VHI\n",
    "print('Роки, назви регіонів з екстремальними посухами та значення VHI')\n",
    "print(detect_droughts(dataframe))\n",
    "\n"
   ],
   "id": "b8f355b44f3508cb",
   "outputs": [
    {
     "name": "stdout",
     "output_type": "stream",
     "text": [
      "Перші 5 рядків отриманого датафрейму\n",
      "   Year  Week    SMN     SMT    VCI    TCI    VHI  empty  area\n",
      "0  1982   1.0  0.059  258.24  51.11  48.78  49.95    NaN     1\n",
      "1  1982   2.0  0.063  261.53  55.89  38.20  47.04    NaN     1\n",
      "2  1982   3.0  0.063  263.45  57.30  32.69  44.99    NaN     1\n",
      "3  1982   4.0  0.061  265.10  53.96  28.62  41.29    NaN     1\n",
      "4  1982   5.0  0.058  266.42  46.87  28.57  37.72    NaN     1\n",
      "---------------------------------------------\n",
      "Перші 5 рядків отриманого датафрейму з новими індексами\n",
      "   Year  Week    SMN     SMT    VCI    TCI    VHI  empty  area\n",
      "0  1982   1.0  0.059  258.24  51.11  48.78  49.95    NaN    22\n",
      "1  1982   2.0  0.063  261.53  55.89  38.20  47.04    NaN    22\n",
      "2  1982   3.0  0.063  263.45  57.30  32.69  44.99    NaN    22\n",
      "3  1982   4.0  0.061  265.10  53.96  28.62  41.29    NaN    22\n",
      "4  1982   5.0  0.058  266.42  46.87  28.57  37.72    NaN    22\n",
      "---------------------------------------------\n",
      "Ряд VHI для області за вказаний рік\n",
      "0     49.95\n",
      "1     47.04\n",
      "2     44.99\n",
      "3     41.29\n",
      "4     37.72\n",
      "5     34.91\n",
      "6     33.14\n",
      "7     32.72\n",
      "8     32.77\n",
      "9     32.23\n",
      "10    30.38\n",
      "11    31.12\n",
      "12    31.65\n",
      "13    32.61\n",
      "14    35.49\n",
      "15    39.19\n",
      "16    41.14\n",
      "17    39.50\n",
      "18    37.07\n",
      "19    37.88\n",
      "20    40.99\n",
      "21    43.36\n",
      "22    45.31\n",
      "23    46.30\n",
      "24    48.85\n",
      "25    50.88\n",
      "26    51.83\n",
      "27    51.68\n",
      "28    51.61\n",
      "29    49.93\n",
      "30    46.00\n",
      "31    43.56\n",
      "32    41.20\n",
      "33    38.42\n",
      "34    39.22\n",
      "35    39.13\n",
      "36    37.25\n",
      "37    36.38\n",
      "38    35.99\n",
      "39    34.87\n",
      "40    29.96\n",
      "41    28.16\n",
      "42    27.39\n",
      "43    25.05\n",
      "44    23.80\n",
      "45    22.82\n",
      "46    24.41\n",
      "47    27.34\n",
      "48    28.53\n",
      "49    27.87\n",
      "50    29.83\n",
      "51    31.99\n",
      "Name: VHI, dtype: float64\n",
      "---------------------------------------------\n",
      "Results:\n",
      "min: 22.82\n",
      "max: 64.88\n",
      "average: 41.03798076923077\n",
      "median: 39.055\n",
      "---------------------------------------------\n",
      "Ряд VHI за вказаний діапазон років для вказаних регіонів\n",
      "     Year  area    VHI\n",
      "0    1982    22  49.95\n",
      "1    1982    22  47.04\n",
      "2    1982    22  44.99\n",
      "3    1982    22  41.29\n",
      "4    1982    22  37.72\n",
      "..    ...   ...    ...\n",
      "255  1986    22  26.04\n",
      "256  1986    22  31.28\n",
      "257  1986    22  35.85\n",
      "258  1986    22  39.25\n",
      "259  1986    22  43.82\n",
      "\n",
      "[260 rows x 3 columns]\n",
      "---------------------------------------------\n",
      "Роки, назви регіонів з екстремальними посухами та значення VHI\n",
      "    Year  Area    VHI\n",
      "0   2000  24.0  12.51\n",
      "1   2000  24.0  10.60\n",
      "2   2000  24.0  11.20\n",
      "3   2000  24.0  12.32\n",
      "4   2000  24.0  14.65\n",
      "5   2000  23.0  14.89\n",
      "6   2000  23.0  12.76\n",
      "7   2000  23.0   7.81\n",
      "8   2000  23.0   6.49\n",
      "9   2000  23.0   6.58\n",
      "10  2000  23.0   6.71\n",
      "11  2000  23.0   7.56\n",
      "12  2000  23.0   9.25\n",
      "13  2000  23.0  10.94\n",
      "14  2000  23.0  12.28\n",
      "15  2000   9.0  14.64\n",
      "16  2000   9.0  11.82\n",
      "17  2000   9.0  10.81\n",
      "18  2000   9.0  10.68\n",
      "19  2000   9.0  12.30\n",
      "20  2000   9.0  14.24\n",
      "21  2000  12.0  13.14\n",
      "22  2000  12.0   9.50\n",
      "23  2000  12.0   8.14\n",
      "24  2000  12.0   9.69\n",
      "25  2000  12.0  11.20\n",
      "26  2000  12.0  11.36\n",
      "27  2000  12.0  12.77\n",
      "28  2000  13.0  12.26\n",
      "29  2000  13.0  11.28\n",
      "30  2000  13.0  11.25\n",
      "31  2000  13.0  11.38\n",
      "32  2000  13.0  12.91\n",
      "33  2000  13.0  14.20\n",
      "34  2000   7.0  14.61\n",
      "35  2000   7.0  11.33\n",
      "36  2000   7.0   9.36\n",
      "37  2000   7.0   9.45\n",
      "38  2000   7.0   9.73\n",
      "39  2000   7.0  11.45\n",
      "40  2000   7.0  14.29\n"
     ]
    }
   ],
   "execution_count": 243
  }
 ],
 "metadata": {
  "kernelspec": {
   "display_name": "Python 3",
   "language": "python",
   "name": "python3"
  },
  "language_info": {
   "codemirror_mode": {
    "name": "ipython",
    "version": 2
   },
   "file_extension": ".py",
   "mimetype": "text/x-python",
   "name": "python",
   "nbconvert_exporter": "python",
   "pygments_lexer": "ipython2",
   "version": "2.7.6"
  }
 },
 "nbformat": 4,
 "nbformat_minor": 5
}
